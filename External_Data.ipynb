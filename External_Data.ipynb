{
 "cells": [
  {
   "cell_type": "code",
   "execution_count": 2,
   "id": "1c5c1d28-36f4-471d-bba7-b71c64e1adcf",
   "metadata": {},
   "outputs": [],
   "source": [
    "import numpy as np\n",
    "import pandas as pd\n",
    "import matplotlib.pyplot as plt\n",
    "\n",
    "%matplotlib inline"
   ]
  },
  {
   "cell_type": "code",
   "execution_count": 3,
   "id": "48ec5f2c-1600-4899-b8fb-c4844569464e",
   "metadata": {},
   "outputs": [
    {
     "data": {
      "text/plain": [
       "<function pandas.io.parsers.readers.read_csv(filepath_or_buffer: 'FilePath | ReadCsvBuffer[bytes] | ReadCsvBuffer[str]', *, sep: 'str | None | lib.NoDefault' = <no_default>, delimiter: 'str | None | lib.NoDefault' = None, header: \"int | Sequence[int] | None | Literal['infer']\" = 'infer', names: 'Sequence[Hashable] | None | lib.NoDefault' = <no_default>, index_col: 'IndexLabel | Literal[False] | None' = None, usecols=None, dtype: 'DtypeArg | None' = None, engine: 'CSVEngine | None' = None, converters=None, true_values=None, false_values=None, skipinitialspace: 'bool' = False, skiprows=None, skipfooter: 'int' = 0, nrows: 'int | None' = None, na_values=None, keep_default_na: 'bool' = True, na_filter: 'bool' = True, verbose: 'bool' = False, skip_blank_lines: 'bool' = True, parse_dates: 'bool | Sequence[Hashable] | None' = None, infer_datetime_format: 'bool | lib.NoDefault' = <no_default>, keep_date_col: 'bool' = False, date_parser=<no_default>, date_format: 'str | None' = None, dayfirst: 'bool' = False, cache_dates: 'bool' = True, iterator: 'bool' = False, chunksize: 'int | None' = None, compression: 'CompressionOptions' = 'infer', thousands: 'str | None' = None, decimal: 'str' = '.', lineterminator: 'str | None' = None, quotechar: 'str' = '\"', quoting: 'int' = 0, doublequote: 'bool' = True, escapechar: 'str | None' = None, comment: 'str | None' = None, encoding: 'str | None' = None, encoding_errors: 'str | None' = 'strict', dialect: 'str | csv.Dialect | None' = None, on_bad_lines: 'str' = 'error', delim_whitespace: 'bool' = False, low_memory=True, memory_map: 'bool' = False, float_precision: \"Literal['high', 'legacy'] | None\" = None, storage_options: 'StorageOptions' = None, dtype_backend: 'DtypeBackend | lib.NoDefault' = <no_default>) -> 'DataFrame | TextFileReader'>"
      ]
     },
     "execution_count": 3,
     "metadata": {},
     "output_type": "execute_result"
    }
   ],
   "source": [
    "pd.read_csv"
   ]
  },
  {
   "cell_type": "code",
   "execution_count": 4,
   "id": "2ca00df9-e9b7-4273-ae99-c0d442d85153",
   "metadata": {},
   "outputs": [],
   "source": [
    "df = pd.read_csv('https://api.llama.fi/overview/fees/ethereum?excludeTotalDataChart=true&excludeTotalDataChartBreakdown=true&dataType=dailyFees')"
   ]
  },
  {
   "cell_type": "code",
   "execution_count": 5,
   "id": "c8ae8918-33d3-41ec-acf8-59e0f292047f",
   "metadata": {},
   "outputs": [
    {
     "data": {
      "text/html": [
       "<div>\n",
       "<style scoped>\n",
       "    .dataframe tbody tr th:only-of-type {\n",
       "        vertical-align: middle;\n",
       "    }\n",
       "\n",
       "    .dataframe tbody tr th {\n",
       "        vertical-align: top;\n",
       "    }\n",
       "\n",
       "    .dataframe thead th {\n",
       "        text-align: right;\n",
       "    }\n",
       "</style>\n",
       "<table border=\"1\" class=\"dataframe\">\n",
       "  <thead>\n",
       "    <tr style=\"text-align: right;\">\n",
       "      <th></th>\n",
       "      <th>{\"totalDataChart\":[]</th>\n",
       "      <th>totalDataChartBreakdown:[]</th>\n",
       "      <th>protocols:[{\"defillamaId\":\"2695\"</th>\n",
       "      <th>name:\"SmarDex\"</th>\n",
       "      <th>disabled:false</th>\n",
       "      <th>displayName:\"SmarDex\"</th>\n",
       "      <th>module:\"SmarDex\"</th>\n",
       "      <th>category:\"Dexes\"</th>\n",
       "      <th>logo:\"https://icons.llamao.fi/icons/protocols/smardex.png\"</th>\n",
       "      <th>change_1d:0</th>\n",
       "      <th>...</th>\n",
       "      <th>change_1m:27.08</th>\n",
       "      <th>change_7dover7d:-4.75</th>\n",
       "      <th>change_30dover30d:4.81</th>\n",
       "      <th>breakdown24h:null.3</th>\n",
       "      <th>dailyRevenue:2264084.494369102</th>\n",
       "      <th>dailyUserFees:7200780.331690212</th>\n",
       "      <th>dailyHoldersRevenue:1154700.8136452667</th>\n",
       "      <th>dailyCreatorRevenue:18.493750017223647.1</th>\n",
       "      <th>dailySupplySideRevenue:3218160.820811923</th>\n",
       "      <th>dailyProtocolRevenue:838907.7929869433}</th>\n",
       "    </tr>\n",
       "  </thead>\n",
       "  <tbody>\n",
       "  </tbody>\n",
       "</table>\n",
       "<p>0 rows × 3068 columns</p>\n",
       "</div>"
      ],
      "text/plain": [
       "Empty DataFrame\n",
       "Columns: [{\"totalDataChart\":[], totalDataChartBreakdown:[], protocols:[{\"defillamaId\":\"2695\", name:\"SmarDex\", disabled:false, displayName:\"SmarDex\", module:\"SmarDex\", category:\"Dexes\", logo:\"https://icons.llamao.fi/icons/protocols/smardex.png\", change_1d:0, change_7d:143.68, change_1m:-56.29, change_7dover7d:60.52, change_30dover30d:102.22, total24h:177.57416757083195, total48hto24h:177.57416757083195, total7d:1585.6246584660576, total30d:9358.964931057577, total14dto7d:987.8177634933922, total60dto30d:4628.00371243396, totalAllTime:177.57416757083195, breakdown24h:{\"ethereum\":{\"SmarDex\":177.57416757083195}}, chains:[\"Ethereum\"], protocolType:\"protocol\", methodologyURL:\"https://github.com/DefiLlama/dimension-adapters/blob/master/fees/SmarDex\", methodology:{\"UserFees\":\"\\nA minor fee is collected on each swap,  functioning as trading fees.\\nThe fees are set at 0.07% on Ethereum and 0.1% on other chains.\\nOn other networks,  fees may vary between different pairs and chains.\\nRefer to https://docs.smardex.io/overview/what-is-smardex/fees for detailed information.\\n\", Fees:\"\\nA minor fee is collected on each swap,  functioning as trading fees.\\nThe fees are set at 0.07% on Ethereum and 0.1% on other chains.\\nOn other networks.1,  fees may vary between different pairs and chains.\\nRefer to https://docs.smardex.io/overview/what-is-smardex/fees for detailed information.\\n\".1, Revenue:\"0.02% of each swap on Ethereum is collected for staking pool (SDEX holders that staked). On other chains,  fees are collected for liquidity providers and fees may vary between different pairs and chains. Refer to https://docs.smardex.io/overview/what-is-smardex/fees for detailed information.\", ProtocolRevenue:\"Protocol has no revenue.\", HoldersRevenue:\"0.02% of each swap on Ethereum is collected for staking pool (SDEX holders that staked). On other chains staking is not available and fees are collected for buybacks SDEX and burns.\", SupplySideRevenue:\"0.05% of each swap on Ethereum is collected for liquidity providers. On other chains,  fees collected for liquidity providers and fees may vary between different pairs and chains. Refer to https://docs.smardex.io/overview/what-is-smardex/fees for detailed information.\"}, latestFetchIsOk:true, dailyRevenue:126.83869112202282, dailyUserFees:177.57416757083195, dailyHoldersRevenue:null, dailyCreatorRevenue:null, dailySupplySideRevenue:50.73547644880912, dailyProtocolRevenue:null, dailyBribesRevenue:null, dailyFees:177.57416757083195, holdersRevenue30d:2786.5790050158053}, {\"defillamaId\":\"2954\", name:\"AirSwap\", disabled:false.1, displayName:\"AirSwap\", module:\"airswap\", category:\"Dexes\".1, logo:\"https://icons.llamao.fi/icons/protocols/airswap.jpg\", change_1d:-8.76, change_7d:-17.55, change_1m:24.02, change_7dover7d:-27.15, change_30dover30d:-62.15, total24h:443.02540884678393, total48hto24h:485.5687988661864, total7d:2999.1683542038318, total30d:9782.9421625237, total14dto7d:4116.932765560744, total60dto30d:25844.313771227695, totalAllTime:null, breakdown24h:{\"ethereum\":{\"airswap\":443.02540884678393}}, chains:[\"Ethereum\"].1, protocolType:\"protocol\".1, methodologyURL:\"https://github.com/DefiLlama/dimension-adapters/blob/master/fees/airswap.ts\", methodology:{\"UserFees\":\"Swap fees paid by users\", Fees:\"Swap fees paid by users\", Revenue:\"Percentage of swap fees going to treasury and/or token holders\", ProtocolRevenue:\"Percentage of swap fees going to treasury\", HoldersRevenue:\"Money going to governance token holders\", SupplySideRevenue:\"Liquidity providers revenue\"}, latestFetchIsOk:true.1, dailyRevenue:443.02540884678393, dailyUserFees:443.02540884678393, dailyHoldersRevenue:null.1, dailyCreatorRevenue:null.1, dailySupplySideRevenue:0, dailyProtocolRevenue:null.1, dailyBribesRevenue:null.1, dailyFees:443.02540884678393, holdersRevenue30d:0}, {\"defillamaId\":\"398\", name:\"ApeSwap AMM\", disabled:false.2, displayName:\"ApeSwap AMM\", module:\"apeswap\", category:\"Dexes\".2, logo:\"https://icons.llamao.fi/icons/protocols/apeswap-amm.png\", change_1d:null, change_7d:null, change_1m:null, change_7dover7d:-63.93, change_30dover30d:-93.46, total24h:0, total48hto24h:0, ...]\n",
       "Index: []\n",
       "\n",
       "[0 rows x 3068 columns]"
      ]
     },
     "execution_count": 5,
     "metadata": {},
     "output_type": "execute_result"
    }
   ],
   "source": [
    "df.head()"
   ]
  },
  {
   "cell_type": "code",
   "execution_count": 12,
   "id": "a27f03e4-96dd-4748-87d3-71927969f36d",
   "metadata": {},
   "outputs": [],
   "source": [
    "df = pd.read_csv('https://api.llama.fi/overview/fees/ethereum?excludeTotalDataChart=true&excludeTotalDataChartBreakdown=true&dataType=dailyFees', header = None)"
   ]
  },
  {
   "cell_type": "code",
   "execution_count": 13,
   "id": "6277883a-f347-4465-8636-b26d797af32e",
   "metadata": {
    "scrolled": true
   },
   "outputs": [
    {
     "data": {
      "text/html": [
       "<div>\n",
       "<style scoped>\n",
       "    .dataframe tbody tr th:only-of-type {\n",
       "        vertical-align: middle;\n",
       "    }\n",
       "\n",
       "    .dataframe tbody tr th {\n",
       "        vertical-align: top;\n",
       "    }\n",
       "\n",
       "    .dataframe thead th {\n",
       "        text-align: right;\n",
       "    }\n",
       "</style>\n",
       "<table border=\"1\" class=\"dataframe\">\n",
       "  <thead>\n",
       "    <tr style=\"text-align: right;\">\n",
       "      <th></th>\n",
       "      <th>0</th>\n",
       "      <th>1</th>\n",
       "      <th>2</th>\n",
       "      <th>3</th>\n",
       "      <th>4</th>\n",
       "      <th>5</th>\n",
       "      <th>6</th>\n",
       "      <th>7</th>\n",
       "      <th>8</th>\n",
       "      <th>9</th>\n",
       "      <th>...</th>\n",
       "      <th>3058</th>\n",
       "      <th>3059</th>\n",
       "      <th>3060</th>\n",
       "      <th>3061</th>\n",
       "      <th>3062</th>\n",
       "      <th>3063</th>\n",
       "      <th>3064</th>\n",
       "      <th>3065</th>\n",
       "      <th>3066</th>\n",
       "      <th>3067</th>\n",
       "    </tr>\n",
       "  </thead>\n",
       "  <tbody>\n",
       "    <tr>\n",
       "      <th>0</th>\n",
       "      <td>{\"totalDataChart\":[]</td>\n",
       "      <td>totalDataChartBreakdown:[]</td>\n",
       "      <td>protocols:[{\"defillamaId\":\"2695\"</td>\n",
       "      <td>name:\"SmarDex\"</td>\n",
       "      <td>disabled:false</td>\n",
       "      <td>displayName:\"SmarDex\"</td>\n",
       "      <td>module:\"SmarDex\"</td>\n",
       "      <td>category:\"Dexes\"</td>\n",
       "      <td>logo:\"https://icons.llamao.fi/icons/protocols/...</td>\n",
       "      <td>change_1d:0</td>\n",
       "      <td>...</td>\n",
       "      <td>change_1m:27.08</td>\n",
       "      <td>change_7dover7d:-4.75</td>\n",
       "      <td>change_30dover30d:4.81</td>\n",
       "      <td>breakdown24h:null</td>\n",
       "      <td>dailyRevenue:2264084.494369102</td>\n",
       "      <td>dailyUserFees:7200780.331690212</td>\n",
       "      <td>dailyHoldersRevenue:1154700.8136452667</td>\n",
       "      <td>dailyCreatorRevenue:18.493750017223647</td>\n",
       "      <td>dailySupplySideRevenue:3218160.820811923</td>\n",
       "      <td>dailyProtocolRevenue:838907.7929869433}</td>\n",
       "    </tr>\n",
       "  </tbody>\n",
       "</table>\n",
       "<p>1 rows × 3068 columns</p>\n",
       "</div>"
      ],
      "text/plain": [
       "                   0                           1     \\\n",
       "0  {\"totalDataChart\":[]  totalDataChartBreakdown:[]   \n",
       "\n",
       "                               2               3               4     \\\n",
       "0  protocols:[{\"defillamaId\":\"2695\"  name:\"SmarDex\"  disabled:false   \n",
       "\n",
       "                    5                 6                 7     \\\n",
       "0  displayName:\"SmarDex\"  module:\"SmarDex\"  category:\"Dexes\"   \n",
       "\n",
       "                                                8            9     ...  \\\n",
       "0  logo:\"https://icons.llamao.fi/icons/protocols/...  change_1d:0  ...   \n",
       "\n",
       "              3058                   3059                    3060  \\\n",
       "0  change_1m:27.08  change_7dover7d:-4.75  change_30dover30d:4.81   \n",
       "\n",
       "                3061                            3062  \\\n",
       "0  breakdown24h:null  dailyRevenue:2264084.494369102   \n",
       "\n",
       "                              3063                                    3064  \\\n",
       "0  dailyUserFees:7200780.331690212  dailyHoldersRevenue:1154700.8136452667   \n",
       "\n",
       "                                     3065  \\\n",
       "0  dailyCreatorRevenue:18.493750017223647   \n",
       "\n",
       "                                       3066  \\\n",
       "0  dailySupplySideRevenue:3218160.820811923   \n",
       "\n",
       "                                      3067  \n",
       "0  dailyProtocolRevenue:838907.7929869433}  \n",
       "\n",
       "[1 rows x 3068 columns]"
      ]
     },
     "execution_count": 13,
     "metadata": {},
     "output_type": "execute_result"
    }
   ],
   "source": [
    "df.head()"
   ]
  },
  {
   "cell_type": "code",
   "execution_count": 14,
   "id": "77d402e5-0819-4159-bf2b-72f90989b613",
   "metadata": {},
   "outputs": [
    {
     "name": "stdout",
     "output_type": "stream",
     "text": [
      "<class 'pandas.core.frame.DataFrame'>\n",
      "RangeIndex: 1 entries, 0 to 0\n",
      "Columns: 3068 entries, 0 to 3067\n",
      "dtypes: object(3068)\n",
      "memory usage: 24.1+ KB\n"
     ]
    }
   ],
   "source": [
    "df.info()"
   ]
  },
  {
   "cell_type": "code",
   "execution_count": 15,
   "id": "d3803672-6f07-45c2-a6e7-c0a7e21e913f",
   "metadata": {},
   "outputs": [
    {
     "data": {
      "text/html": [
       "<div>\n",
       "<style scoped>\n",
       "    .dataframe tbody tr th:only-of-type {\n",
       "        vertical-align: middle;\n",
       "    }\n",
       "\n",
       "    .dataframe tbody tr th {\n",
       "        vertical-align: top;\n",
       "    }\n",
       "\n",
       "    .dataframe thead th {\n",
       "        text-align: right;\n",
       "    }\n",
       "</style>\n",
       "<table border=\"1\" class=\"dataframe\">\n",
       "  <thead>\n",
       "    <tr style=\"text-align: right;\">\n",
       "      <th></th>\n",
       "      <th>0</th>\n",
       "      <th>1</th>\n",
       "      <th>2</th>\n",
       "      <th>3</th>\n",
       "      <th>4</th>\n",
       "      <th>5</th>\n",
       "      <th>6</th>\n",
       "      <th>7</th>\n",
       "      <th>8</th>\n",
       "      <th>9</th>\n",
       "      <th>...</th>\n",
       "      <th>3058</th>\n",
       "      <th>3059</th>\n",
       "      <th>3060</th>\n",
       "      <th>3061</th>\n",
       "      <th>3062</th>\n",
       "      <th>3063</th>\n",
       "      <th>3064</th>\n",
       "      <th>3065</th>\n",
       "      <th>3066</th>\n",
       "      <th>3067</th>\n",
       "    </tr>\n",
       "  </thead>\n",
       "  <tbody>\n",
       "    <tr>\n",
       "      <th>0</th>\n",
       "      <td>{\"totalDataChart\":[]</td>\n",
       "      <td>totalDataChartBreakdown:[]</td>\n",
       "      <td>protocols:[{\"defillamaId\":\"2695\"</td>\n",
       "      <td>name:\"SmarDex\"</td>\n",
       "      <td>disabled:false</td>\n",
       "      <td>displayName:\"SmarDex\"</td>\n",
       "      <td>module:\"SmarDex\"</td>\n",
       "      <td>category:\"Dexes\"</td>\n",
       "      <td>logo:\"https://icons.llamao.fi/icons/protocols/...</td>\n",
       "      <td>change_1d:0</td>\n",
       "      <td>...</td>\n",
       "      <td>change_1m:27.08</td>\n",
       "      <td>change_7dover7d:-4.75</td>\n",
       "      <td>change_30dover30d:4.81</td>\n",
       "      <td>breakdown24h:null</td>\n",
       "      <td>dailyRevenue:2264084.494369102</td>\n",
       "      <td>dailyUserFees:7200780.331690212</td>\n",
       "      <td>dailyHoldersRevenue:1154700.8136452667</td>\n",
       "      <td>dailyCreatorRevenue:18.493750017223647</td>\n",
       "      <td>dailySupplySideRevenue:3218160.820811923</td>\n",
       "      <td>dailyProtocolRevenue:838907.7929869433}</td>\n",
       "    </tr>\n",
       "  </tbody>\n",
       "</table>\n",
       "<p>1 rows × 3068 columns</p>\n",
       "</div>"
      ],
      "text/plain": [
       "                   0                           1     \\\n",
       "0  {\"totalDataChart\":[]  totalDataChartBreakdown:[]   \n",
       "\n",
       "                               2               3               4     \\\n",
       "0  protocols:[{\"defillamaId\":\"2695\"  name:\"SmarDex\"  disabled:false   \n",
       "\n",
       "                    5                 6                 7     \\\n",
       "0  displayName:\"SmarDex\"  module:\"SmarDex\"  category:\"Dexes\"   \n",
       "\n",
       "                                                8            9     ...  \\\n",
       "0  logo:\"https://icons.llamao.fi/icons/protocols/...  change_1d:0  ...   \n",
       "\n",
       "              3058                   3059                    3060  \\\n",
       "0  change_1m:27.08  change_7dover7d:-4.75  change_30dover30d:4.81   \n",
       "\n",
       "                3061                            3062  \\\n",
       "0  breakdown24h:null  dailyRevenue:2264084.494369102   \n",
       "\n",
       "                              3063                                    3064  \\\n",
       "0  dailyUserFees:7200780.331690212  dailyHoldersRevenue:1154700.8136452667   \n",
       "\n",
       "                                     3065  \\\n",
       "0  dailyCreatorRevenue:18.493750017223647   \n",
       "\n",
       "                                       3066  \\\n",
       "0  dailySupplySideRevenue:3218160.820811923   \n",
       "\n",
       "                                      3067  \n",
       "0  dailyProtocolRevenue:838907.7929869433}  \n",
       "\n",
       "[1 rows x 3068 columns]"
      ]
     },
     "execution_count": 15,
     "metadata": {},
     "output_type": "execute_result"
    }
   ],
   "source": [
    "df.tail()"
   ]
  },
  {
   "cell_type": "code",
   "execution_count": null,
   "id": "0e8ad7f3-4a68-435c-b055-8e9a67e60c56",
   "metadata": {},
   "outputs": [],
   "source": []
  },
  {
   "cell_type": "code",
   "execution_count": null,
   "id": "4d5f0ac2-bcbe-4a22-91a8-5c84f78a46df",
   "metadata": {},
   "outputs": [],
   "source": []
  }
 ],
 "metadata": {
  "kernelspec": {
   "display_name": "Python 3 (ipykernel)",
   "language": "python",
   "name": "python3"
  },
  "language_info": {
   "codemirror_mode": {
    "name": "ipython",
    "version": 3
   },
   "file_extension": ".py",
   "mimetype": "text/x-python",
   "name": "python",
   "nbconvert_exporter": "python",
   "pygments_lexer": "ipython3",
   "version": "3.11.3"
  }
 },
 "nbformat": 4,
 "nbformat_minor": 5
}
