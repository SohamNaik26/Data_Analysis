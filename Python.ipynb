{
 "cells": [
  {
   "cell_type": "code",
   "execution_count": 1,
   "id": "86ed4fd7-bda6-4f72-a1d7-c4913175ef9a",
   "metadata": {},
   "outputs": [],
   "source": [
    "a = 6\n",
    "b = 2"
   ]
  },
  {
   "cell_type": "code",
   "execution_count": 3,
   "id": "da4442e8-55d6-4c9a-b867-ddfb0bfe7b99",
   "metadata": {},
   "outputs": [
    {
     "name": "stdout",
     "output_type": "stream",
     "text": [
      "3.0\n"
     ]
    }
   ],
   "source": [
    "print (a/b)"
   ]
  },
  {
   "cell_type": "code",
   "execution_count": 4,
   "id": "214e031a-8569-46ea-8f25-7b36e9641480",
   "metadata": {},
   "outputs": [
    {
     "data": {
      "text/plain": [
       "'this is a string'"
      ]
     },
     "execution_count": 4,
     "metadata": {},
     "output_type": "execute_result"
    }
   ],
   "source": [
    "'this is a string'"
   ]
  },
  {
   "cell_type": "code",
   "execution_count": 5,
   "id": "1c85bca1-55ee-47c7-9c2b-3a9b8d39c531",
   "metadata": {},
   "outputs": [],
   "source": [
    "first_string = 'hello from mode'"
   ]
  },
  {
   "cell_type": "code",
   "execution_count": 6,
   "id": "a68059c3-c6ff-4ac6-8575-c26d9d0e30a0",
   "metadata": {},
   "outputs": [
    {
     "name": "stdout",
     "output_type": "stream",
     "text": [
      "hello from mode\n"
     ]
    }
   ],
   "source": [
    "print(first_string)"
   ]
  },
  {
   "cell_type": "code",
   "execution_count": 7,
   "id": "8a57fe8d-4b25-4248-8205-79261a8538d7",
   "metadata": {},
   "outputs": [
    {
     "data": {
      "text/plain": [
       "'hello from mode'"
      ]
     },
     "execution_count": 7,
     "metadata": {},
     "output_type": "execute_result"
    }
   ],
   "source": [
    "first_string"
   ]
  },
  {
   "cell_type": "code",
   "execution_count": 8,
   "id": "1dd4bf02-e42e-4f5a-9161-f9ad726cb4e2",
   "metadata": {},
   "outputs": [
    {
     "name": "stdout",
     "output_type": "stream",
     "text": [
      "one double cheeseburger\n"
     ]
    }
   ],
   "source": [
    "print (\"one double cheeseburger\")"
   ]
  },
  {
   "cell_type": "code",
   "execution_count": 3,
   "id": "b9fcae45-a57d-41ff-88c3-2b228a338295",
   "metadata": {},
   "outputs": [],
   "source": [
    "cities = ['Tokyo','Los Angeles','New York','San Francisco']"
   ]
  },
  {
   "cell_type": "code",
   "execution_count": 4,
   "id": "4901d5d1-89fd-43c6-9540-5ad2dbb44a2f",
   "metadata": {},
   "outputs": [
    {
     "name": "stdout",
     "output_type": "stream",
     "text": [
      "['Tokyo', 'Los Angeles', 'New York', 'San Francisco']\n"
     ]
    }
   ],
   "source": [
    "print(cities)"
   ]
  },
  {
   "cell_type": "code",
   "execution_count": 5,
   "id": "a0ffa2a2-58a7-4b31-bcec-17215d378526",
   "metadata": {},
   "outputs": [
    {
     "data": {
      "text/plain": [
       "'Los Angeles'"
      ]
     },
     "execution_count": 5,
     "metadata": {},
     "output_type": "execute_result"
    }
   ],
   "source": [
    "cities[1]"
   ]
  },
  {
   "cell_type": "code",
   "execution_count": 6,
   "id": "97e064af-6ce0-4674-bec8-eb6b1979fb0b",
   "metadata": {},
   "outputs": [
    {
     "data": {
      "text/plain": [
       "'Tokyo'"
      ]
     },
     "execution_count": 6,
     "metadata": {},
     "output_type": "execute_result"
    }
   ],
   "source": [
    "cities[0]"
   ]
  },
  {
   "cell_type": "code",
   "execution_count": 9,
   "id": "d30c1b3f-4ce0-47df-93d4-53c7074e1185",
   "metadata": {},
   "outputs": [],
   "source": [
    "city_population = {\n",
    "    'Tokyo': 13350000, # a key-value pair\n",
    "    'Los Angeles': 18550000,\n",
    "    'New York City': 8400000,\n",
    "    'San Francisco': 1837442,\n",
    "}"
   ]
  },
  {
   "cell_type": "code",
   "execution_count": 10,
   "id": "042b4baf-907b-4901-81f6-f6bc7e15d62c",
   "metadata": {},
   "outputs": [
    {
     "data": {
      "text/plain": [
       "{'Tokyo': 13350000,\n",
       " 'Los Angeles': 18550000,\n",
       " 'New York City': 8400000,\n",
       " 'San Francisco': 1837442}"
      ]
     },
     "execution_count": 10,
     "metadata": {},
     "output_type": "execute_result"
    }
   ],
   "source": [
    "city_population"
   ]
  },
  {
   "cell_type": "code",
   "execution_count": 11,
   "id": "ee3558ce-c632-4e67-92ad-bfa13a0371dc",
   "metadata": {},
   "outputs": [
    {
     "data": {
      "text/plain": [
       "8400000"
      ]
     },
     "execution_count": 11,
     "metadata": {},
     "output_type": "execute_result"
    }
   ],
   "source": [
    "city_population['New York City']"
   ]
  },
  {
   "cell_type": "code",
   "execution_count": 12,
   "id": "ac0c477d-29df-4493-9440-c0e5e1e3f82f",
   "metadata": {},
   "outputs": [],
   "source": [
    "#Changing values"
   ]
  },
  {
   "cell_type": "code",
   "execution_count": 13,
   "id": "a0d13535-e18a-427f-a247-25a31c695ce6",
   "metadata": {},
   "outputs": [],
   "source": [
    "city_population['San Francisco'] = 837442"
   ]
  },
  {
   "cell_type": "code",
   "execution_count": 14,
   "id": "853a2f72-26fc-486d-a407-b31a671aba9e",
   "metadata": {},
   "outputs": [
    {
     "data": {
      "text/plain": [
       "{'Tokyo': 13350000,\n",
       " 'Los Angeles': 18550000,\n",
       " 'New York City': 8400000,\n",
       " 'San Francisco': 837442}"
      ]
     },
     "execution_count": 14,
     "metadata": {},
     "output_type": "execute_result"
    }
   ],
   "source": [
    "city_population"
   ]
  },
  {
   "cell_type": "code",
   "execution_count": 15,
   "id": "42ecb371-c45a-40c5-b23f-597190930331",
   "metadata": {},
   "outputs": [],
   "source": [
    "#Adding Keys"
   ]
  },
  {
   "cell_type": "code",
   "execution_count": 16,
   "id": "89c64092-20ea-41e6-b79c-5ae813394d64",
   "metadata": {},
   "outputs": [],
   "source": [
    "city_population['Mumbai'] = 11980000"
   ]
  },
  {
   "cell_type": "code",
   "execution_count": 17,
   "id": "13f31fed-8acf-4e59-b58b-73539e7bc9a4",
   "metadata": {},
   "outputs": [
    {
     "data": {
      "text/plain": [
       "{'Tokyo': 13350000,\n",
       " 'Los Angeles': 18550000,\n",
       " 'New York City': 8400000,\n",
       " 'San Francisco': 837442,\n",
       " 'Mumbai': 11980000}"
      ]
     },
     "execution_count": 17,
     "metadata": {},
     "output_type": "execute_result"
    }
   ],
   "source": [
    "city_population"
   ]
  },
  {
   "cell_type": "code",
   "execution_count": 18,
   "id": "5b8f4a2c-c202-49f2-bc24-b65c5a2e182a",
   "metadata": {},
   "outputs": [],
   "source": [
    "municipalities = {\n",
    "    'New York City': [\n",
    "        'Manhattan',\n",
    "        'The Bronx',\n",
    "        'Brooklyn',\n",
    "        'Queens',\n",
    "        'Staten Island'\n",
    "    ],\n",
    "    'Tokyo': [\n",
    "        'Akihabara',\n",
    "        'Harajuku',\n",
    "        'Shimokitazawa',\n",
    "        'Nakameguro',\n",
    "        'Shibuya',\n",
    "        'Ebisu/Daikanyama',\n",
    "        'Shibuya District',\n",
    "        'Aoyama',\n",
    "        'Asakusa/Ueno',\n",
    "        'Bunkyo District',\n",
    "        'Ginza',\n",
    "        'Ikebukuro',\n",
    "        'Koto District',\n",
    "        'Meguro District',\n",
    "        'Minato District',\n",
    "        'Roppongi',\n",
    "        'Shinagawa District',\n",
    "        'Shinjuku',\n",
    "        'Shinjuku District',\n",
    "        'Sumida District',\n",
    "        'Tsukiji',\n",
    "        'Tsukishima']\n",
    "}"
   ]
  },
  {
   "cell_type": "code",
   "execution_count": 19,
   "id": "1f40043c-cc4c-47c8-a9b7-654454387441",
   "metadata": {},
   "outputs": [
    {
     "data": {
      "text/plain": [
       "['Akihabara',\n",
       " 'Harajuku',\n",
       " 'Shimokitazawa',\n",
       " 'Nakameguro',\n",
       " 'Shibuya',\n",
       " 'Ebisu/Daikanyama',\n",
       " 'Shibuya District',\n",
       " 'Aoyama',\n",
       " 'Asakusa/Ueno',\n",
       " 'Bunkyo District',\n",
       " 'Ginza',\n",
       " 'Ikebukuro',\n",
       " 'Koto District',\n",
       " 'Meguro District',\n",
       " 'Minato District',\n",
       " 'Roppongi',\n",
       " 'Shinagawa District',\n",
       " 'Shinjuku',\n",
       " 'Shinjuku District',\n",
       " 'Sumida District',\n",
       " 'Tsukiji',\n",
       " 'Tsukishima']"
      ]
     },
     "execution_count": 19,
     "metadata": {},
     "output_type": "execute_result"
    }
   ],
   "source": [
    "municipalities['Tokyo']"
   ]
  },
  {
   "cell_type": "code",
   "execution_count": 20,
   "id": "9cb28d44-cb81-4513-91ca-a97a13a87d8d",
   "metadata": {},
   "outputs": [
    {
     "data": {
      "text/plain": [
       "'Nakameguro'"
      ]
     },
     "execution_count": 20,
     "metadata": {},
     "output_type": "execute_result"
    }
   ],
   "source": [
    "municipalities['Tokyo'][3]"
   ]
  },
  {
   "cell_type": "code",
   "execution_count": 21,
   "id": "dc4de424-a5ac-4a17-9fb2-f197cfaa5dff",
   "metadata": {},
   "outputs": [
    {
     "data": {
      "text/plain": [
       "bool"
      ]
     },
     "execution_count": 21,
     "metadata": {},
     "output_type": "execute_result"
    }
   ],
   "source": [
    "type(True)"
   ]
  },
  {
   "cell_type": "code",
   "execution_count": 22,
   "id": "3a13b493-8c9f-496c-84d0-3d3499743ae9",
   "metadata": {},
   "outputs": [
    {
     "data": {
      "text/plain": [
       "list"
      ]
     },
     "execution_count": 22,
     "metadata": {},
     "output_type": "execute_result"
    }
   ],
   "source": [
    "type(municipalities['Tokyo'])"
   ]
  },
  {
   "cell_type": "code",
   "execution_count": 23,
   "id": "0d5afab6-aefb-4735-b6db-693edd91ac43",
   "metadata": {},
   "outputs": [
    {
     "data": {
      "text/plain": [
       "True"
      ]
     },
     "execution_count": 23,
     "metadata": {},
     "output_type": "execute_result"
    }
   ],
   "source": [
    "city_population['Tokyo'] == 13350000"
   ]
  },
  {
   "cell_type": "code",
   "execution_count": 24,
   "id": "d8209d19-0de6-45de-9333-6737ba4f8524",
   "metadata": {},
   "outputs": [
    {
     "data": {
      "text/plain": [
       "False"
      ]
     },
     "execution_count": 24,
     "metadata": {},
     "output_type": "execute_result"
    }
   ],
   "source": [
    "city_population['Tokyo'] == 50000"
   ]
  },
  {
   "cell_type": "code",
   "execution_count": 25,
   "id": "8fa28f13-fbdc-482d-8512-2e7f76a1594b",
   "metadata": {},
   "outputs": [
    {
     "data": {
      "text/plain": [
       "True"
      ]
     },
     "execution_count": 25,
     "metadata": {},
     "output_type": "execute_result"
    }
   ],
   "source": [
    "city_population['Tokyo'] != 50000"
   ]
  },
  {
   "cell_type": "code",
   "execution_count": 26,
   "id": "20c82ecc-68c1-4d7d-87ad-17001416f437",
   "metadata": {},
   "outputs": [
    {
     "data": {
      "text/plain": [
       "list"
      ]
     },
     "execution_count": 26,
     "metadata": {},
     "output_type": "execute_result"
    }
   ],
   "source": [
    "type(municipalities['Tokyo'])"
   ]
  },
  {
   "cell_type": "code",
   "execution_count": 27,
   "id": "be7a55c4-3450-4ee8-819b-9e1e4812e4a7",
   "metadata": {},
   "outputs": [
    {
     "data": {
      "text/plain": [
       "dict_keys(['Tokyo', 'Los Angeles', 'New York City', 'San Francisco', 'Mumbai'])"
      ]
     },
     "execution_count": 27,
     "metadata": {},
     "output_type": "execute_result"
    }
   ],
   "source": [
    "city_population.keys()\n"
   ]
  },
  {
   "cell_type": "code",
   "execution_count": 28,
   "id": "ca61acbe-4be5-41fe-9dc2-c7fc6692ee10",
   "metadata": {},
   "outputs": [
    {
     "data": {
      "text/plain": [
       "dict_keys"
      ]
     },
     "execution_count": 28,
     "metadata": {},
     "output_type": "execute_result"
    }
   ],
   "source": [
    "type(city_population.keys())"
   ]
  },
  {
   "cell_type": "code",
   "execution_count": 37,
   "id": "5733c1cb-d05d-40f9-a1c4-d0cbd35c6ade",
   "metadata": {},
   "outputs": [
    {
     "data": {
      "text/plain": [
       "dict_values([13350000, 18550000, 8400000, 837442, 11980000])"
      ]
     },
     "execution_count": 37,
     "metadata": {},
     "output_type": "execute_result"
    }
   ],
   "source": [
    "city_population.values()"
   ]
  },
  {
   "cell_type": "code",
   "execution_count": 38,
   "id": "b552369a-c254-4028-88c7-9bc4bd0237dd",
   "metadata": {},
   "outputs": [
    {
     "data": {
      "text/plain": [
       "'Nakameguro'"
      ]
     },
     "execution_count": 38,
     "metadata": {},
     "output_type": "execute_result"
    }
   ],
   "source": [
    "municipalities['Tokyo'][3]"
   ]
  },
  {
   "cell_type": "code",
   "execution_count": 39,
   "id": "bf2407f5-d249-4636-8e10-9a891fd44691",
   "metadata": {},
   "outputs": [
    {
     "data": {
      "text/plain": [
       "dict_keys(['New York City', 'Tokyo'])"
      ]
     },
     "execution_count": 39,
     "metadata": {},
     "output_type": "execute_result"
    }
   ],
   "source": [
    "municipalities.keys()"
   ]
  },
  {
   "cell_type": "code",
   "execution_count": 40,
   "id": "9cc0cfcb-38ee-45d4-9968-3a62fa826632",
   "metadata": {},
   "outputs": [
    {
     "data": {
      "text/plain": [
       "dict_values([['Manhattan', 'The Bronx', 'Brooklyn', 'Queens', 'Staten Island'], ['Akihabara', 'Harajuku', 'Shimokitazawa', 'Nakameguro', 'Shibuya', 'Ebisu/Daikanyama', 'Shibuya District', 'Aoyama', 'Asakusa/Ueno', 'Bunkyo District', 'Ginza', 'Ikebukuro', 'Koto District', 'Meguro District', 'Minato District', 'Roppongi', 'Shinagawa District', 'Shinjuku', 'Shinjuku District', 'Sumida District', 'Tsukiji', 'Tsukishima']])"
      ]
     },
     "execution_count": 40,
     "metadata": {},
     "output_type": "execute_result"
    }
   ],
   "source": [
    "municipalities.values()"
   ]
  },
  {
   "cell_type": "code",
   "execution_count": 44,
   "id": "6c671f63-e625-4191-a205-a7656621e97b",
   "metadata": {},
   "outputs": [
    {
     "data": {
      "text/plain": [
       "str"
      ]
     },
     "execution_count": 44,
     "metadata": {},
     "output_type": "execute_result"
    }
   ],
   "source": [
    "type(municipalities)\n",
    "type(municipalities['Tokyo'])\n",
    "type(municipalities['Tokyo'][0])\n"
   ]
  },
  {
   "cell_type": "code",
   "execution_count": 45,
   "id": "aee262f4-605b-4f09-8221-4b867a34d418",
   "metadata": {},
   "outputs": [
    {
     "data": {
      "text/plain": [
       "22"
      ]
     },
     "execution_count": 45,
     "metadata": {},
     "output_type": "execute_result"
    }
   ],
   "source": [
    "len(municipalities['Tokyo'])"
   ]
  },
  {
   "cell_type": "code",
   "execution_count": 47,
   "id": "eef9e78c-7b30-49e6-993e-d71c9624a754",
   "metadata": {},
   "outputs": [],
   "source": [
    "import numpy"
   ]
  },
  {
   "cell_type": "code",
   "execution_count": 48,
   "id": "9bde6a9e-66ee-4812-b483-a0b51ea57861",
   "metadata": {},
   "outputs": [
    {
     "data": {
      "text/plain": [
       "dict_values([13350000, 18550000, 8400000, 837442, 11980000])"
      ]
     },
     "execution_count": 48,
     "metadata": {},
     "output_type": "execute_result"
    }
   ],
   "source": [
    "population_values = city_population.values()\n",
    "population_values"
   ]
  },
  {
   "cell_type": "code",
   "execution_count": 49,
   "id": "ff76118a-19e5-48fb-952c-f74520939edd",
   "metadata": {},
   "outputs": [
    {
     "data": {
      "text/plain": [
       "dict_values([13350000, 18550000, 8400000, 837442, 11980000])"
      ]
     },
     "execution_count": 49,
     "metadata": {},
     "output_type": "execute_result"
    }
   ],
   "source": [
    "city_population.values()"
   ]
  }
 ],
 "metadata": {
  "kernelspec": {
   "display_name": "Python 3 (ipykernel)",
   "language": "python",
   "name": "python3"
  },
  "language_info": {
   "codemirror_mode": {
    "name": "ipython",
    "version": 3
   },
   "file_extension": ".py",
   "mimetype": "text/x-python",
   "name": "python",
   "nbconvert_exporter": "python",
   "pygments_lexer": "ipython3",
   "version": "3.11.3"
  }
 },
 "nbformat": 4,
 "nbformat_minor": 5
}
