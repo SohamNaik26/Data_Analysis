{
 "cells": [
  {
   "cell_type": "code",
   "execution_count": 2,
   "id": "bf129dc0-3ac8-4fa3-aca2-5d1f41edfe5f",
   "metadata": {},
   "outputs": [],
   "source": [
    "import pandas as pd\n",
    "import numpy as np"
   ]
  },
  {
   "cell_type": "code",
   "execution_count": 4,
   "id": "238e7bd7-415a-48aa-ba88-15d09802ac1a",
   "metadata": {},
   "outputs": [],
   "source": [
    "#In Millions\n",
    "g7_pop = pd.Series([35.467, 63.951, 80.940, 60.665, 127.061, 64.511, 318.523])"
   ]
  },
  {
   "cell_type": "code",
   "execution_count": 5,
   "id": "37dd5fce-962d-4b60-a785-26ca266c0bdf",
   "metadata": {},
   "outputs": [
    {
     "data": {
      "text/plain": [
       "0     35.467\n",
       "1     63.951\n",
       "2     80.940\n",
       "3     60.665\n",
       "4    127.061\n",
       "5     64.511\n",
       "6    318.523\n",
       "dtype: float64"
      ]
     },
     "execution_count": 5,
     "metadata": {},
     "output_type": "execute_result"
    }
   ],
   "source": [
    "g7_pop"
   ]
  },
  {
   "cell_type": "code",
   "execution_count": 6,
   "id": "3c4528ac-4e49-4e36-ad16-d0c852eecc18",
   "metadata": {},
   "outputs": [],
   "source": [
    "g7_pop.name = 'G7 population in millions'"
   ]
  },
  {
   "cell_type": "code",
   "execution_count": 7,
   "id": "e9dd3daa-b86e-4dac-9093-ba98ba5d898f",
   "metadata": {},
   "outputs": [
    {
     "data": {
      "text/plain": [
       "0     35.467\n",
       "1     63.951\n",
       "2     80.940\n",
       "3     60.665\n",
       "4    127.061\n",
       "5     64.511\n",
       "6    318.523\n",
       "Name: G7 population in millions, dtype: float64"
      ]
     },
     "execution_count": 7,
     "metadata": {},
     "output_type": "execute_result"
    }
   ],
   "source": [
    "g7_pop"
   ]
  },
  {
   "cell_type": "code",
   "execution_count": 8,
   "id": "e77ccdaa-1334-48e6-adc8-8d08f00b3627",
   "metadata": {},
   "outputs": [
    {
     "data": {
      "text/plain": [
       "dtype('float64')"
      ]
     },
     "execution_count": 8,
     "metadata": {},
     "output_type": "execute_result"
    }
   ],
   "source": [
    "g7_pop.dtype"
   ]
  },
  {
   "cell_type": "code",
   "execution_count": 9,
   "id": "0c191b80-1adc-4736-a37b-ada0f1d868c3",
   "metadata": {},
   "outputs": [
    {
     "data": {
      "text/plain": [
       "array([ 35.467,  63.951,  80.94 ,  60.665, 127.061,  64.511, 318.523])"
      ]
     },
     "execution_count": 9,
     "metadata": {},
     "output_type": "execute_result"
    }
   ],
   "source": [
    "g7_pop.values"
   ]
  },
  {
   "cell_type": "code",
   "execution_count": 10,
   "id": "86d8cacc-95ce-4b96-881e-ce105d0c8f30",
   "metadata": {},
   "outputs": [
    {
     "data": {
      "text/plain": [
       "35.467"
      ]
     },
     "execution_count": 10,
     "metadata": {},
     "output_type": "execute_result"
    }
   ],
   "source": [
    "g7_pop[0]"
   ]
  },
  {
   "cell_type": "code",
   "execution_count": 11,
   "id": "3b3bfd57-19ca-4d29-bf91-d4a8af336514",
   "metadata": {},
   "outputs": [
    {
     "data": {
      "text/plain": [
       "63.951"
      ]
     },
     "execution_count": 11,
     "metadata": {},
     "output_type": "execute_result"
    }
   ],
   "source": [
    "g7_pop[1]"
   ]
  },
  {
   "cell_type": "code",
   "execution_count": 12,
   "id": "87e2071a-c2b8-47e9-8602-f4174618b247",
   "metadata": {},
   "outputs": [
    {
     "data": {
      "text/plain": [
       "RangeIndex(start=0, stop=7, step=1)"
      ]
     },
     "execution_count": 12,
     "metadata": {},
     "output_type": "execute_result"
    }
   ],
   "source": [
    "g7_pop.index"
   ]
  },
  {
   "cell_type": "code",
   "execution_count": 13,
   "id": "47db4c85-eb9f-4fa0-9005-6fb74477bb5b",
   "metadata": {},
   "outputs": [],
   "source": [
    "l =['a', 'b', 'c']"
   ]
  },
  {
   "cell_type": "code",
   "execution_count": 14,
   "id": "7ea7f560-8e74-47cd-a2da-34d803b0c8d2",
   "metadata": {},
   "outputs": [],
   "source": [
    "g7_pop.index = [\n",
    "    'Canada',\n",
    "    'France',\n",
    "    'Grermany',\n",
    "    'Italy',\n",
    "    'Japan',\n",
    "    'United Kingdom',\n",
    "    'United States',\n",
    "]"
   ]
  },
  {
   "cell_type": "code",
   "execution_count": 15,
   "id": "8bcb1f1b-1770-4640-92f1-2a413722642f",
   "metadata": {},
   "outputs": [
    {
     "data": {
      "text/plain": [
       "Canada             35.467\n",
       "France             63.951\n",
       "Grermany           80.940\n",
       "Italy              60.665\n",
       "Japan             127.061\n",
       "United Kingdom     64.511\n",
       "United States     318.523\n",
       "Name: G7 population in millions, dtype: float64"
      ]
     },
     "execution_count": 15,
     "metadata": {},
     "output_type": "execute_result"
    }
   ],
   "source": [
    "g7_pop"
   ]
  },
  {
   "cell_type": "code",
   "execution_count": 16,
   "id": "57ae618c-6fe1-4818-8b75-43634dc4e32d",
   "metadata": {},
   "outputs": [
    {
     "data": {
      "text/plain": [
       "35.467"
      ]
     },
     "execution_count": 16,
     "metadata": {},
     "output_type": "execute_result"
    }
   ],
   "source": [
    "g7_pop['Canada']"
   ]
  },
  {
   "cell_type": "code",
   "execution_count": 17,
   "id": "100c1325-50be-44ea-99b9-f4db7c8ed798",
   "metadata": {},
   "outputs": [
    {
     "data": {
      "text/plain": [
       "127.061"
      ]
     },
     "execution_count": 17,
     "metadata": {},
     "output_type": "execute_result"
    }
   ],
   "source": [
    "g7_pop['Japan']"
   ]
  },
  {
   "cell_type": "code",
   "execution_count": 19,
   "id": "03593bb9-69cd-4004-ba15-666916563b04",
   "metadata": {},
   "outputs": [
    {
     "data": {
      "text/plain": [
       "35.467"
      ]
     },
     "execution_count": 19,
     "metadata": {},
     "output_type": "execute_result"
    }
   ],
   "source": [
    "g7_pop.iloc[0]"
   ]
  },
  {
   "cell_type": "code",
   "execution_count": 20,
   "id": "0f036a6e-9773-4c26-b835-a250768122a0",
   "metadata": {},
   "outputs": [
    {
     "data": {
      "text/plain": [
       "Italy     60.665\n",
       "France    63.951\n",
       "Name: G7 population in millions, dtype: float64"
      ]
     },
     "execution_count": 20,
     "metadata": {},
     "output_type": "execute_result"
    }
   ],
   "source": [
    "g7_pop[['Italy', 'France']]"
   ]
  },
  {
   "cell_type": "code",
   "execution_count": 21,
   "id": "cec7475a-2fba-4ee7-99ef-36f62a7e4de3",
   "metadata": {},
   "outputs": [
    {
     "data": {
      "text/plain": [
       "Canada    35.467\n",
       "France    63.951\n",
       "Name: G7 population in millions, dtype: float64"
      ]
     },
     "execution_count": 21,
     "metadata": {},
     "output_type": "execute_result"
    }
   ],
   "source": [
    "g7_pop.iloc[[0,1]]"
   ]
  },
  {
   "cell_type": "code",
   "execution_count": 22,
   "id": "38a39ac8-5f40-486d-a5f6-d0b56bcfe33e",
   "metadata": {},
   "outputs": [
    {
     "data": {
      "text/plain": [
       "Canada      35.467\n",
       "France      63.951\n",
       "Grermany    80.940\n",
       "Italy       60.665\n",
       "Name: G7 population in millions, dtype: float64"
      ]
     },
     "execution_count": 22,
     "metadata": {},
     "output_type": "execute_result"
    }
   ],
   "source": [
    "g7_pop['Canada':'Italy']"
   ]
  },
  {
   "cell_type": "code",
   "execution_count": 23,
   "id": "51be7557-0d6b-447f-a07c-2a48387035f0",
   "metadata": {},
   "outputs": [
    {
     "data": {
      "text/plain": [
       "['a', 'b', 'c']"
      ]
     },
     "execution_count": 23,
     "metadata": {},
     "output_type": "execute_result"
    }
   ],
   "source": [
    "l"
   ]
  },
  {
   "cell_type": "code",
   "execution_count": 24,
   "id": "7e56998c-1941-4286-8ee2-7ad6a258a0c2",
   "metadata": {},
   "outputs": [
    {
     "data": {
      "text/plain": [
       "Canada             35.467\n",
       "France             63.951\n",
       "Grermany           80.940\n",
       "Italy              60.665\n",
       "Japan             127.061\n",
       "United Kingdom     64.511\n",
       "United States     318.523\n",
       "Name: G7 population in millions, dtype: float64"
      ]
     },
     "execution_count": 24,
     "metadata": {},
     "output_type": "execute_result"
    }
   ],
   "source": [
    "g7_pop"
   ]
  },
  {
   "cell_type": "code",
   "execution_count": 25,
   "id": "55fdaad6-b153-40fa-9aba-fa97d0da6ff0",
   "metadata": {},
   "outputs": [
    {
     "data": {
      "text/plain": [
       "Canada             35467000.0\n",
       "France             63951000.0\n",
       "Grermany           80940000.0\n",
       "Italy              60665000.0\n",
       "Japan             127061000.0\n",
       "United Kingdom     64511000.0\n",
       "United States     318523000.0\n",
       "Name: G7 population in millions, dtype: float64"
      ]
     },
     "execution_count": 25,
     "metadata": {},
     "output_type": "execute_result"
    }
   ],
   "source": [
    "g7_pop * 1_000_000"
   ]
  },
  {
   "cell_type": "code",
   "execution_count": 26,
   "id": "f89ad6b9-0f05-4842-b1ab-9f45a8eb4053",
   "metadata": {},
   "outputs": [
    {
     "data": {
      "text/plain": [
       "107.30257142857144"
      ]
     },
     "execution_count": 26,
     "metadata": {},
     "output_type": "execute_result"
    }
   ],
   "source": [
    "g7_pop.mean()"
   ]
  },
  {
   "cell_type": "code",
   "execution_count": 28,
   "id": "d6bc1d46-ade8-4e54-b4b3-798a6a521e8e",
   "metadata": {},
   "outputs": [
    {
     "data": {
      "text/plain": [
       "Canada            False\n",
       "France            False\n",
       "Grermany           True\n",
       "Italy             False\n",
       "Japan              True\n",
       "United Kingdom    False\n",
       "United States      True\n",
       "Name: G7 population in millions, dtype: bool"
      ]
     },
     "execution_count": 28,
     "metadata": {},
     "output_type": "execute_result"
    }
   ],
   "source": [
    "g7_pop > 70"
   ]
  },
  {
   "cell_type": "code",
   "execution_count": 29,
   "id": "5dfdb708-7729-4edd-ac8c-bbab402a0d27",
   "metadata": {},
   "outputs": [
    {
     "data": {
      "text/plain": [
       "Grermany          80.940\n",
       "Japan            127.061\n",
       "United States    318.523\n",
       "Name: G7 population in millions, dtype: float64"
      ]
     },
     "execution_count": 29,
     "metadata": {},
     "output_type": "execute_result"
    }
   ],
   "source": [
    "g7_pop[g7_pop > 70]"
   ]
  },
  {
   "cell_type": "code",
   "execution_count": 30,
   "id": "d481a6a5-9929-42b2-8833-d846fe21be62",
   "metadata": {},
   "outputs": [
    {
     "data": {
      "text/plain": [
       "97.24996987121581"
      ]
     },
     "execution_count": 30,
     "metadata": {},
     "output_type": "execute_result"
    }
   ],
   "source": [
    "g7_pop.std()"
   ]
  },
  {
   "cell_type": "code",
   "execution_count": null,
   "id": "131999a5-fa85-4ab7-840b-9736c57ddb0f",
   "metadata": {},
   "outputs": [],
   "source": [
    "~ not\n",
    "| or\n",
    "& and"
   ]
  },
  {
   "cell_type": "code",
   "execution_count": null,
   "id": "e31c6454-e696-4220-b68f-4775e15623d4",
   "metadata": {},
   "outputs": [],
   "source": [
    "g7_pop[(g7_pop > g7_pop.mean() - g7_pop.std() / 2 | (g7_pop > g7_pop.mean() + g7_pop.std() / 2)]"
   ]
  },
  {
   "cell_type": "code",
   "execution_count": 38,
   "id": "9059b57c-492d-40f3-bb03-0775f48a1279",
   "metadata": {},
   "outputs": [],
   "source": [
    "g7_pop['Canada'] = 40.5"
   ]
  },
  {
   "cell_type": "code",
   "execution_count": 39,
   "id": "465b784e-870e-4682-91a4-7caaa3385776",
   "metadata": {},
   "outputs": [
    {
     "data": {
      "text/plain": [
       "Canada             40.500\n",
       "France             63.951\n",
       "Grermany           80.940\n",
       "Italy              60.665\n",
       "Japan             127.061\n",
       "United Kingdom     64.511\n",
       "United States     318.523\n",
       "Name: G7 population in millions, dtype: float64"
      ]
     },
     "execution_count": 39,
     "metadata": {},
     "output_type": "execute_result"
    }
   ],
   "source": [
    "g7_pop"
   ]
  },
  {
   "cell_type": "code",
   "execution_count": 40,
   "id": "5c199da8-b817-416a-a3a6-1faed7754716",
   "metadata": {},
   "outputs": [],
   "source": [
    "g7_pop.iloc[-1] = 500"
   ]
  },
  {
   "cell_type": "code",
   "execution_count": 41,
   "id": "12cdb424-fa6e-40d6-a48c-b102d14540be",
   "metadata": {},
   "outputs": [
    {
     "data": {
      "text/plain": [
       "Canada             40.500\n",
       "France             63.951\n",
       "Grermany           80.940\n",
       "Italy              60.665\n",
       "Japan             127.061\n",
       "United Kingdom     64.511\n",
       "United States     500.000\n",
       "Name: G7 population in millions, dtype: float64"
      ]
     },
     "execution_count": 41,
     "metadata": {},
     "output_type": "execute_result"
    }
   ],
   "source": [
    "g7_pop"
   ]
  },
  {
   "cell_type": "code",
   "execution_count": null,
   "id": "61d1f8be-e10b-4b01-9352-54c59a4a0134",
   "metadata": {},
   "outputs": [],
   "source": []
  }
 ],
 "metadata": {
  "kernelspec": {
   "display_name": "Python 3 (ipykernel)",
   "language": "python",
   "name": "python3"
  },
  "language_info": {
   "codemirror_mode": {
    "name": "ipython",
    "version": 3
   },
   "file_extension": ".py",
   "mimetype": "text/x-python",
   "name": "python",
   "nbconvert_exporter": "python",
   "pygments_lexer": "ipython3",
   "version": "3.11.3"
  }
 },
 "nbformat": 4,
 "nbformat_minor": 5
}
